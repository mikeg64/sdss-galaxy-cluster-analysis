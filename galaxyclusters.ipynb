{
 "cells": [
  {
   "cell_type": "code",
   "execution_count": 5,
   "metadata": {},
   "outputs": [],
   "source": [
    "# Python standard-library\n",
    "from urllib.parse import urlencode\n",
    "from urllib.request import urlretrieve\n",
    "\n",
    "\n",
    "import pandas as pd\n",
    "import numpy as np\n",
    "import matplotlib\n",
    "\n",
    "# Third-party dependencies\n",
    "from astropy import units as u\n",
    "from astropy.coordinates import SkyCoord\n",
    "from astropy.table import Table\n",
    "from astropy.io import ascii\n",
    "\n",
    "from IPython.display import Image\n",
    "\n",
    "# Set up matplotlib and use a nicer set of plot parameters\n",
    "import matplotlib.pyplot as plt\n",
    "%matplotlib inline"
   ]
  },
  {
   "cell_type": "code",
   "execution_count": 26,
   "metadata": {},
   "outputs": [
    {
     "name": "stdout",
     "output_type": "stream",
     "text": [
      "6\n",
      "['Copeland Septet', 2]\n",
      "Copeland Septet\n",
      "2\n"
     ]
    }
   ],
   "source": [
    "#The second number on each cluster is how big you want the cut out to be.\n",
    "\n",
    "\n",
    "#clusters=[['ngc 2419',12],['Pal 3',12],['Pal 4',12],['ngc 4147',12],['ngc 5024',12],['M53',12],['ngc 5053',12],['ngc 5272',12]\n",
    "#     ,['M3',12],['ngc 5466',12],['Pal 5',12],['ngc 5904',12],['M5',12],['Pal 14',12],['ngc 6205',12],['M13',12],\n",
    "#     ['ngc 6341',12],['M92',12]]\n",
    "\n",
    "\n",
    "\n",
    "#clusters=[['Abell 1656',2.92],['Leo Triplet',6.18],['Copeland Septet',2],['NGC 7331',24],['NGC 4477',3],['NGC 6027',3],['Virgo Cluster',3],['HCG 92',3]]\n",
    "\n",
    "\n",
    "clusters=[['Abell 1656',2.92],['Leo Triplet',6.18],['Copeland Septet',2],['NGC 4477',3],['NGC 6027',3],['Virgo Cluster',3]]\n",
    "                                                   \n",
    "\n",
    "\n",
    "print(len(clusters))\n",
    "i=2\n",
    "print(clusters[i])\n",
    "\n",
    "sclus=clusters[i]\n",
    "print(sclus[0])\n",
    "print(sclus[1])"
   ]
  },
  {
   "cell_type": "code",
   "execution_count": 27,
   "metadata": {},
   "outputs": [
    {
     "name": "stdout",
     "output_type": "stream",
     "text": [
      "Abell 1656\n",
      "194.95292 27.98056\n",
      "Leo Triplet\n",
      "169.75 13.2\n",
      "Copeland Septet\n",
      "174.46042 21.985\n",
      "NGC 4477\n",
      "187.50905 13.6364417\n",
      "NGC 6027\n",
      "239.802275 20.7634389\n",
      "Virgo Cluster\n",
      "186.63375 12.72333\n"
     ]
    }
   ],
   "source": [
    "radeg= [None] * len(clusters)\n",
    "decdeg= [None] * len(clusters)\n",
    "i=0\n",
    "for clus in clusters:\n",
    "    #print(clus)\n",
    "    print(clus[0])\n",
    "    #print(clus[1])\n",
    "    clus_center = SkyCoord.from_name(clus[0])\n",
    "    #print(clus_center.ra, clus_center.dec)\n",
    "    #print(clus_center.ra.hour, clus_center.dec)\n",
    "    print(str(clus_center.ra.deg), str(clus_center.dec.deg))\n",
    "    radeg[i]=clus_center.ra.deg\n",
    "    decdeg[i]=clus_center.dec.deg\n",
    "    i=i+1\n",
    "    clus[1]=30"
   ]
  },
  {
   "cell_type": "code",
   "execution_count": 28,
   "metadata": {},
   "outputs": [
    {
     "name": "stdout",
     "output_type": "stream",
     "text": [
      "Abell 1656\n",
      "Leo Triplet\n",
      "Copeland Septet\n",
      "NGC 4477\n",
      "NGC 6027\n",
      "Virgo Cluster\n"
     ]
    },
    {
     "name": "stderr",
     "output_type": "stream",
     "text": [
      "WARNING: AstropyDeprecationWarning: galaxout/Abell 1656.csv already exists. Automatically overwriting ASCII files is deprecated. Use the argument 'overwrite=True' in the future. [astropy.io.ascii.ui]\n",
      "WARNING: AstropyDeprecationWarning: galaxout/Leo Triplet.csv already exists. Automatically overwriting ASCII files is deprecated. Use the argument 'overwrite=True' in the future. [astropy.io.ascii.ui]\n",
      "WARNING: AstropyDeprecationWarning: galaxout/Copeland Septet.csv already exists. Automatically overwriting ASCII files is deprecated. Use the argument 'overwrite=True' in the future. [astropy.io.ascii.ui]\n",
      "WARNING: AstropyDeprecationWarning: galaxout/NGC 4477.csv already exists. Automatically overwriting ASCII files is deprecated. Use the argument 'overwrite=True' in the future. [astropy.io.ascii.ui]\n",
      "WARNING: AstropyDeprecationWarning: galaxout/NGC 6027.csv already exists. Automatically overwriting ASCII files is deprecated. Use the argument 'overwrite=True' in the future. [astropy.io.ascii.ui]\n",
      "WARNING: AstropyDeprecationWarning: galaxout/Virgo Cluster.csv already exists. Automatically overwriting ASCII files is deprecated. Use the argument 'overwrite=True' in the future. [astropy.io.ascii.ui]\n"
     ]
    }
   ],
   "source": [
    "from astroquery.sdss import SDSS\n",
    "from astropy.io import ascii\n",
    "\n",
    "#q1 = \" select g.objid, g.ra, g.dec, g.u, g.g, g.r, g.i, g.z from galaxy g, \"\n",
    "q1 = \" select g.objid, g.ra, g.dec, g.u, g.g, g.r, g.i, g.z, s.z as redshift FROM galaxy AS g JOIN SpecObj AS s ON s.bestobjid = g.objid, \"\n",
    "q3 = \"  n where g.objid = n.objid \"\n",
    "i=0\n",
    "for clus in clusters:\n",
    "    print(clus[0])\n",
    "    #query = \"select top 10                        z, ra, dec, bestObjID                      from                        specObj                      where                        class = 'galaxy'                        and z > 0.3                        and zWarning = 0\"\n",
    "    #query = \" select s.objid, s.ra, s.dec, s.u, s.g, s.r, s.i, s.z from star s, dbo.fGetNearbyObjEq(229.0128,-0.1082,3) n where s.objid = n.objid \"\n",
    "    q2 = \" dbo.fGetNearbyObjEq(\"+str(radeg[i])+\",\"+str(decdeg[i])+\",32) \"\n",
    "    query = q1+q2+q3\n",
    "    i=i+1\n",
    "    res = SDSS.query_sql(query)\n",
    "    outfile='galaxout/'+clus[0]+'.csv'\n",
    "    ascii.write(res,outfile)"
   ]
  },
  {
   "cell_type": "code",
   "execution_count": 29,
   "metadata": {},
   "outputs": [
    {
     "name": "stdout",
     "output_type": "stream",
     "text": [
      "       objid               ra              dec        ...    z        redshift  \n",
      "------------------- ---------------- ---------------- ... -------- -------------\n",
      "1237661950255300654 186.638360528992 12.7429675611442 ... 13.93746   0.004329188\n",
      "1237661950255235597 186.599840782842 12.7496350153116 ... 18.68874     0.5783205\n",
      "1237661950255300969 186.639463337072 12.7732756075049 ... 17.80558     0.4957452\n",
      "1237661812812415016 186.600270531478 12.6650046793511 ... 17.36833       0.25657\n",
      "1237661950255235222 186.610660320123 12.7775266457824 ... 16.13619     0.0935717\n",
      "1237661950255235588 186.594207719176 12.7865507529549 ... 17.01122 -0.0005363628\n",
      "1237661950255300761 186.671216720725 12.7869418504576 ... 18.15328     0.1939028\n",
      "1237661949718298846 186.454633974318 12.4175696434204 ... 18.22433     0.4388886\n",
      "1237661950255235541 186.574596476456 12.7938481176678 ... 19.64261     0.5870529\n",
      "1237661950255431735  186.95672105556 12.8771571571249 ... 16.46408    0.04253878\n",
      "                ...              ...              ... ...      ...           ...\n",
      "1237661950255497267 187.116914808726  12.823670883238 ... 14.33105   0.005693547\n",
      "1237661950255497601 187.128303606872 12.8027391003999 ... 18.49692     0.4717982\n",
      "1237661950792040721 186.472689037016 13.1941446542473 ... 19.06447     0.2906672\n",
      "1237661950792106070 186.552448537483 13.2380978101996 ... 18.47849     0.2877384\n",
      "1237661950792106520 186.580171055366  13.199244630996 ... 18.95981     0.4787603\n",
      "1237661950792171682 186.714364917707 13.1730218531818 ... 15.33299 -4.822119e-07\n",
      "1237661950792171805 186.773851505951  13.158816456616 ... 17.96331     0.3669008\n",
      "1237661950792172399 186.761052382548 13.1460949944411 ... 18.58948     0.7217968\n",
      "1237661950792237128 186.818726764005 13.1309832536775 ... 15.63081     0.1722457\n",
      "1237661950792237272 186.908667956313  13.137052319113 ...  18.1792     0.3668599\n",
      "1237661950792237530 186.864742406511 13.1888490012642 ...  18.5948     0.4804235\n",
      "Length = 243 rows\n"
     ]
    }
   ],
   "source": [
    "print(res)"
   ]
  },
  {
   "cell_type": "code",
   "execution_count": 30,
   "metadata": {},
   "outputs": [
    {
     "name": "stderr",
     "output_type": "stream",
     "text": [
      "WARNING: OverflowError converting to IntType in column objid, reverting to String. [astropy.io.ascii.fastbasic]\n"
     ]
    }
   ],
   "source": [
    "from astropy.table import Table, join, vstack\n",
    "res = [None] * len(clusters)\n",
    "i=0\n",
    "totlen=0\n",
    "for clus in clusters:\n",
    "    #print(clus[0])\n",
    "    datfilename='galaxout/'+clus[0]+'.csv'\n",
    "    tab=ascii.read(datfilename)\n",
    "    res[i]=Table(tab, copy=True)"
   ]
  },
  {
   "cell_type": "code",
   "execution_count": 31,
   "metadata": {},
   "outputs": [
    {
     "name": "stdout",
     "output_type": "stream",
     "text": [
      "<Table length=177>\r\n",
      "  name    dtype \r\n",
      "-------- -------\r\n",
      "   objid   str19\r\n",
      "      ra float64\r\n",
      "     dec float64\r\n",
      "       u float64\r\n",
      "       g float64\r\n",
      "       r float64\r\n",
      "       i float64\r\n",
      "       z float64\r\n",
      "redshift float64\r\n",
      "\n"
     ]
    },
    {
     "name": "stderr",
     "output_type": "stream",
     "text": [
      "WARNING: OverflowError converting to IntType in column objid, reverting to String. [astropy.io.ascii.fastbasic]\n"
     ]
    }
   ],
   "source": [
    "#datfilename='globout/allglobcs.csv'\n",
    "#tab=ascii.read(datfilename)\n",
    "\n",
    "clus=clusters[4]\n",
    "datfilename='galaxout/'+clus[0]+'.csv'\n",
    "tab=ascii.read(datfilename)\n",
    "\n",
    "#tab=res[0]\n",
    "newbigtable=Table(tab, copy=True)\n",
    "\n",
    "print(newbigtable.info)"
   ]
  },
  {
   "cell_type": "code",
   "execution_count": 32,
   "metadata": {},
   "outputs": [
    {
     "name": "stdout",
     "output_type": "stream",
     "text": [
      "       objid               ra              dec        ...    z        redshift  \n",
      "------------------- ---------------- ---------------- ... -------- -------------\n",
      "1237665373870096398 239.802256875444 20.7633537818069 ... 12.73559    0.01465694\n",
      "1237665373870096401 239.796483333176 20.7547285277708 ... 12.41762    0.01398892\n",
      "1237665373870096407  239.79947796504 20.7471422236683 ...  22.8341    0.01525017\n",
      "1237665373870097342 239.799272483939 20.7876230757217 ... 18.04372     0.5637606\n",
      "1237665373870096406 239.829237081606 20.7464972021265 ... 16.77325     0.1117552\n",
      "1237665373870031122 239.731617112105 20.7769901313162 ...  15.6752    0.07313854\n",
      "1237665373870096658 239.837138514162 20.7190713382571 ...   17.211    0.06659017\n",
      "1237665373870097155 239.877913862669 20.7831283828971 ... 19.01693     0.6159545\n",
      "1237665373870031609 239.713400794477 20.7817451466247 ... 19.02563     0.6243247\n",
      "1237665373870096690 239.846475765704 20.6905881467583 ... 16.33196     0.1082262\n",
      "                ...              ...              ... ...      ...           ...\n",
      "1237665537078133040 239.781853826463 21.0869034591303 ... 15.65155    0.08826739\n",
      "1237665537078133157 239.669606860947 21.1174934765368 ... 17.15182    0.04981421\n",
      "1237665537078198562 239.881588194411 21.0196164934684 ... 14.76204    0.08821444\n",
      "1237665537078198635 239.925091296068 21.0331068854721 ... 15.94607    0.08909428\n",
      "1237665537078263988 239.974041845058  21.016008686019 ...   16.861    0.08833025\n",
      "1237665537078264701 240.014124981899 20.9287298798079 ... 18.97313     0.6298525\n",
      "1237665537078329601 240.129276834571 20.9398328670629 ... 19.66669     0.4149971\n",
      "1237665537078330327 240.113083115326 20.9167642204664 ... 19.39734      6.215271\n",
      "1237665537078395012 240.363919067847 20.7765075738393 ... 19.36378     0.2108857\n",
      "1237665537078395334 240.336456281245 20.7638946382323 ... 19.10308 -0.0001346113\n",
      "1237665537078395509 240.264795527845 20.8094482978024 ... 19.35955     0.4955472\n",
      "Length = 177 rows\n"
     ]
    }
   ],
   "source": [
    "print(newbigtable)\n"
   ]
  },
  {
   "cell_type": "code",
   "execution_count": 33,
   "metadata": {},
   "outputs": [],
   "source": [
    "    outfile='galaxout/'+'allgalaxclus'+'.csv'\n",
    "    ascii.write(newbigtable,outfile)"
   ]
  },
  {
   "cell_type": "code",
   "execution_count": null,
   "metadata": {},
   "outputs": [],
   "source": []
  }
 ],
 "metadata": {
  "kernelspec": {
   "display_name": "Python 3",
   "language": "python",
   "name": "python3"
  },
  "language_info": {
   "codemirror_mode": {
    "name": "ipython",
    "version": 3
   },
   "file_extension": ".py",
   "mimetype": "text/x-python",
   "name": "python",
   "nbconvert_exporter": "python",
   "pygments_lexer": "ipython3",
   "version": "3.6.6"
  }
 },
 "nbformat": 4,
 "nbformat_minor": 2
}
